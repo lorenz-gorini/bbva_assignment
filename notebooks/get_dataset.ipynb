{
 "cells": [
  {
   "cell_type": "code",
   "execution_count": 3,
   "metadata": {},
   "outputs": [
    {
     "name": "stdout",
     "output_type": "stream",
     "text": [
      "Obtaining file:///mnt/c/Users/loreg/OneDrive/UCL/Job%20Applications/bbva_assignment\n",
      "  Preparing metadata (setup.py) ... \u001b[?25ldone\n",
      "\u001b[?25hRequirement already satisfied: pandas==2.0 in /home/lori/anaconda3/envs/bbva/lib/python3.11/site-packages (from bbva-assignment==0.1) (2.0.0)\n",
      "Requirement already satisfied: psycopg2_binary==2.9 in /home/lori/anaconda3/envs/bbva/lib/python3.11/site-packages (from bbva-assignment==0.1) (2.9)\n",
      "Requirement already satisfied: jupyterlab==4.0 in /home/lori/anaconda3/envs/bbva/lib/python3.11/site-packages (from bbva-assignment==0.1) (4.0.0)\n",
      "Requirement already satisfied: async-lru>=1.0.0 in /home/lori/anaconda3/envs/bbva/lib/python3.11/site-packages (from jupyterlab==4.0->bbva-assignment==0.1) (2.0.2)\n",
      "Requirement already satisfied: ipykernel in /home/lori/anaconda3/envs/bbva/lib/python3.11/site-packages (from jupyterlab==4.0->bbva-assignment==0.1) (6.23.1)\n",
      "Requirement already satisfied: jinja2>=3.0.3 in /home/lori/anaconda3/envs/bbva/lib/python3.11/site-packages (from jupyterlab==4.0->bbva-assignment==0.1) (3.1.2)\n",
      "Requirement already satisfied: jupyter-core in /home/lori/anaconda3/envs/bbva/lib/python3.11/site-packages (from jupyterlab==4.0->bbva-assignment==0.1) (5.3.0)\n",
      "Requirement already satisfied: jupyter-lsp>=2.0.0 in /home/lori/anaconda3/envs/bbva/lib/python3.11/site-packages (from jupyterlab==4.0->bbva-assignment==0.1) (2.1.0)\n",
      "Requirement already satisfied: jupyter-server<3,>=2.4.0 in /home/lori/anaconda3/envs/bbva/lib/python3.11/site-packages (from jupyterlab==4.0->bbva-assignment==0.1) (2.5.0)\n",
      "Requirement already satisfied: jupyterlab-server<3,>=2.19.0 in /home/lori/anaconda3/envs/bbva/lib/python3.11/site-packages (from jupyterlab==4.0->bbva-assignment==0.1) (2.22.1)\n",
      "Requirement already satisfied: notebook-shim>=0.2 in /home/lori/anaconda3/envs/bbva/lib/python3.11/site-packages (from jupyterlab==4.0->bbva-assignment==0.1) (0.2.3)\n",
      "Requirement already satisfied: packaging in /home/lori/anaconda3/envs/bbva/lib/python3.11/site-packages (from jupyterlab==4.0->bbva-assignment==0.1) (23.1)\n",
      "Requirement already satisfied: tornado>=6.2.0 in /home/lori/anaconda3/envs/bbva/lib/python3.11/site-packages (from jupyterlab==4.0->bbva-assignment==0.1) (6.3.2)\n",
      "Requirement already satisfied: traitlets in /home/lori/anaconda3/envs/bbva/lib/python3.11/site-packages (from jupyterlab==4.0->bbva-assignment==0.1) (5.9.0)\n",
      "Requirement already satisfied: python-dateutil>=2.8.2 in /home/lori/anaconda3/envs/bbva/lib/python3.11/site-packages (from pandas==2.0->bbva-assignment==0.1) (2.8.2)\n",
      "Requirement already satisfied: pytz>=2020.1 in /home/lori/anaconda3/envs/bbva/lib/python3.11/site-packages (from pandas==2.0->bbva-assignment==0.1) (2023.3)\n",
      "Requirement already satisfied: tzdata>=2022.1 in /home/lori/anaconda3/envs/bbva/lib/python3.11/site-packages (from pandas==2.0->bbva-assignment==0.1) (2023.3)\n",
      "Requirement already satisfied: numpy>=1.21.0 in /home/lori/anaconda3/envs/bbva/lib/python3.11/site-packages (from pandas==2.0->bbva-assignment==0.1) (1.24.3)\n",
      "Requirement already satisfied: typing-extensions>=4.0.0 in /home/lori/anaconda3/envs/bbva/lib/python3.11/site-packages (from async-lru>=1.0.0->jupyterlab==4.0->bbva-assignment==0.1) (4.5.0)\n",
      "Requirement already satisfied: MarkupSafe>=2.0 in /home/lori/anaconda3/envs/bbva/lib/python3.11/site-packages (from jinja2>=3.0.3->jupyterlab==4.0->bbva-assignment==0.1) (2.1.2)\n",
      "Requirement already satisfied: anyio>=3.1.0 in /home/lori/anaconda3/envs/bbva/lib/python3.11/site-packages (from jupyter-server<3,>=2.4.0->jupyterlab==4.0->bbva-assignment==0.1) (3.6.2)\n",
      "Requirement already satisfied: argon2-cffi in /home/lori/anaconda3/envs/bbva/lib/python3.11/site-packages (from jupyter-server<3,>=2.4.0->jupyterlab==4.0->bbva-assignment==0.1) (21.3.0)\n",
      "Requirement already satisfied: jupyter-client>=7.4.4 in /home/lori/anaconda3/envs/bbva/lib/python3.11/site-packages (from jupyter-server<3,>=2.4.0->jupyterlab==4.0->bbva-assignment==0.1) (8.2.0)\n",
      "Requirement already satisfied: jupyter-events>=0.4.0 in /home/lori/anaconda3/envs/bbva/lib/python3.11/site-packages (from jupyter-server<3,>=2.4.0->jupyterlab==4.0->bbva-assignment==0.1) (0.6.3)\n",
      "Requirement already satisfied: jupyter-server-terminals in /home/lori/anaconda3/envs/bbva/lib/python3.11/site-packages (from jupyter-server<3,>=2.4.0->jupyterlab==4.0->bbva-assignment==0.1) (0.4.4)\n",
      "Requirement already satisfied: nbconvert>=6.4.4 in /home/lori/anaconda3/envs/bbva/lib/python3.11/site-packages (from jupyter-server<3,>=2.4.0->jupyterlab==4.0->bbva-assignment==0.1) (7.4.0)\n",
      "Requirement already satisfied: nbformat>=5.3.0 in /home/lori/anaconda3/envs/bbva/lib/python3.11/site-packages (from jupyter-server<3,>=2.4.0->jupyterlab==4.0->bbva-assignment==0.1) (5.8.0)\n",
      "Requirement already satisfied: prometheus-client in /home/lori/anaconda3/envs/bbva/lib/python3.11/site-packages (from jupyter-server<3,>=2.4.0->jupyterlab==4.0->bbva-assignment==0.1) (0.16.0)\n",
      "Requirement already satisfied: pyzmq>=24 in /home/lori/anaconda3/envs/bbva/lib/python3.11/site-packages (from jupyter-server<3,>=2.4.0->jupyterlab==4.0->bbva-assignment==0.1) (25.0.2)\n",
      "Requirement already satisfied: send2trash in /home/lori/anaconda3/envs/bbva/lib/python3.11/site-packages (from jupyter-server<3,>=2.4.0->jupyterlab==4.0->bbva-assignment==0.1) (1.8.2)\n",
      "Requirement already satisfied: terminado>=0.8.3 in /home/lori/anaconda3/envs/bbva/lib/python3.11/site-packages (from jupyter-server<3,>=2.4.0->jupyterlab==4.0->bbva-assignment==0.1) (0.17.1)\n",
      "Requirement already satisfied: websocket-client in /home/lori/anaconda3/envs/bbva/lib/python3.11/site-packages (from jupyter-server<3,>=2.4.0->jupyterlab==4.0->bbva-assignment==0.1) (1.5.1)\n",
      "Requirement already satisfied: platformdirs>=2.5 in /home/lori/anaconda3/envs/bbva/lib/python3.11/site-packages (from jupyter-core->jupyterlab==4.0->bbva-assignment==0.1) (3.5.1)\n",
      "Requirement already satisfied: babel>=2.10 in /home/lori/anaconda3/envs/bbva/lib/python3.11/site-packages (from jupyterlab-server<3,>=2.19.0->jupyterlab==4.0->bbva-assignment==0.1) (2.12.1)\n",
      "Requirement already satisfied: json5>=0.9.0 in /home/lori/anaconda3/envs/bbva/lib/python3.11/site-packages (from jupyterlab-server<3,>=2.19.0->jupyterlab==4.0->bbva-assignment==0.1) (0.9.14)\n",
      "Requirement already satisfied: jsonschema>=4.17.3 in /home/lori/anaconda3/envs/bbva/lib/python3.11/site-packages (from jupyterlab-server<3,>=2.19.0->jupyterlab==4.0->bbva-assignment==0.1) (4.17.3)\n",
      "Requirement already satisfied: requests>=2.28 in /home/lori/anaconda3/envs/bbva/lib/python3.11/site-packages (from jupyterlab-server<3,>=2.19.0->jupyterlab==4.0->bbva-assignment==0.1) (2.30.0)\n",
      "Requirement already satisfied: six>=1.5 in /home/lori/anaconda3/envs/bbva/lib/python3.11/site-packages (from python-dateutil>=2.8.2->pandas==2.0->bbva-assignment==0.1) (1.16.0)\n",
      "Requirement already satisfied: comm>=0.1.1 in /home/lori/anaconda3/envs/bbva/lib/python3.11/site-packages (from ipykernel->jupyterlab==4.0->bbva-assignment==0.1) (0.1.3)\n",
      "Requirement already satisfied: debugpy>=1.6.5 in /home/lori/anaconda3/envs/bbva/lib/python3.11/site-packages (from ipykernel->jupyterlab==4.0->bbva-assignment==0.1) (1.6.7)\n",
      "Requirement already satisfied: ipython>=7.23.1 in /home/lori/anaconda3/envs/bbva/lib/python3.11/site-packages (from ipykernel->jupyterlab==4.0->bbva-assignment==0.1) (8.13.2)\n",
      "Requirement already satisfied: matplotlib-inline>=0.1 in /home/lori/anaconda3/envs/bbva/lib/python3.11/site-packages (from ipykernel->jupyterlab==4.0->bbva-assignment==0.1) (0.1.6)\n",
      "Requirement already satisfied: nest-asyncio in /home/lori/anaconda3/envs/bbva/lib/python3.11/site-packages (from ipykernel->jupyterlab==4.0->bbva-assignment==0.1) (1.5.6)\n",
      "Requirement already satisfied: psutil in /home/lori/anaconda3/envs/bbva/lib/python3.11/site-packages (from ipykernel->jupyterlab==4.0->bbva-assignment==0.1) (5.9.5)\n",
      "Requirement already satisfied: idna>=2.8 in /home/lori/anaconda3/envs/bbva/lib/python3.11/site-packages (from anyio>=3.1.0->jupyter-server<3,>=2.4.0->jupyterlab==4.0->bbva-assignment==0.1) (3.4)\n",
      "Requirement already satisfied: sniffio>=1.1 in /home/lori/anaconda3/envs/bbva/lib/python3.11/site-packages (from anyio>=3.1.0->jupyter-server<3,>=2.4.0->jupyterlab==4.0->bbva-assignment==0.1) (1.3.0)\n",
      "Requirement already satisfied: backcall in /home/lori/anaconda3/envs/bbva/lib/python3.11/site-packages (from ipython>=7.23.1->ipykernel->jupyterlab==4.0->bbva-assignment==0.1) (0.2.0)\n",
      "Requirement already satisfied: decorator in /home/lori/anaconda3/envs/bbva/lib/python3.11/site-packages (from ipython>=7.23.1->ipykernel->jupyterlab==4.0->bbva-assignment==0.1) (5.1.1)\n",
      "Requirement already satisfied: jedi>=0.16 in /home/lori/anaconda3/envs/bbva/lib/python3.11/site-packages (from ipython>=7.23.1->ipykernel->jupyterlab==4.0->bbva-assignment==0.1) (0.18.2)\n",
      "Requirement already satisfied: pickleshare in /home/lori/anaconda3/envs/bbva/lib/python3.11/site-packages (from ipython>=7.23.1->ipykernel->jupyterlab==4.0->bbva-assignment==0.1) (0.7.5)\n",
      "Requirement already satisfied: prompt-toolkit!=3.0.37,<3.1.0,>=3.0.30 in /home/lori/anaconda3/envs/bbva/lib/python3.11/site-packages (from ipython>=7.23.1->ipykernel->jupyterlab==4.0->bbva-assignment==0.1) (3.0.38)\n",
      "Requirement already satisfied: pygments>=2.4.0 in /home/lori/anaconda3/envs/bbva/lib/python3.11/site-packages (from ipython>=7.23.1->ipykernel->jupyterlab==4.0->bbva-assignment==0.1) (2.15.1)\n",
      "Requirement already satisfied: stack-data in /home/lori/anaconda3/envs/bbva/lib/python3.11/site-packages (from ipython>=7.23.1->ipykernel->jupyterlab==4.0->bbva-assignment==0.1) (0.6.2)\n",
      "Requirement already satisfied: pexpect>4.3 in /home/lori/anaconda3/envs/bbva/lib/python3.11/site-packages (from ipython>=7.23.1->ipykernel->jupyterlab==4.0->bbva-assignment==0.1) (4.8.0)\n",
      "Requirement already satisfied: attrs>=17.4.0 in /home/lori/anaconda3/envs/bbva/lib/python3.11/site-packages (from jsonschema>=4.17.3->jupyterlab-server<3,>=2.19.0->jupyterlab==4.0->bbva-assignment==0.1) (23.1.0)\n",
      "Requirement already satisfied: pyrsistent!=0.17.0,!=0.17.1,!=0.17.2,>=0.14.0 in /home/lori/anaconda3/envs/bbva/lib/python3.11/site-packages (from jsonschema>=4.17.3->jupyterlab-server<3,>=2.19.0->jupyterlab==4.0->bbva-assignment==0.1) (0.19.3)\n",
      "Requirement already satisfied: python-json-logger>=2.0.4 in /home/lori/anaconda3/envs/bbva/lib/python3.11/site-packages (from jupyter-events>=0.4.0->jupyter-server<3,>=2.4.0->jupyterlab==4.0->bbva-assignment==0.1) (2.0.7)\n",
      "Requirement already satisfied: pyyaml>=5.3 in /home/lori/anaconda3/envs/bbva/lib/python3.11/site-packages (from jupyter-events>=0.4.0->jupyter-server<3,>=2.4.0->jupyterlab==4.0->bbva-assignment==0.1) (6.0)\n",
      "Requirement already satisfied: rfc3339-validator in /home/lori/anaconda3/envs/bbva/lib/python3.11/site-packages (from jupyter-events>=0.4.0->jupyter-server<3,>=2.4.0->jupyterlab==4.0->bbva-assignment==0.1) (0.1.4)\n",
      "Requirement already satisfied: rfc3986-validator>=0.1.1 in /home/lori/anaconda3/envs/bbva/lib/python3.11/site-packages (from jupyter-events>=0.4.0->jupyter-server<3,>=2.4.0->jupyterlab==4.0->bbva-assignment==0.1) (0.1.1)\n",
      "Requirement already satisfied: beautifulsoup4 in /home/lori/anaconda3/envs/bbva/lib/python3.11/site-packages (from nbconvert>=6.4.4->jupyter-server<3,>=2.4.0->jupyterlab==4.0->bbva-assignment==0.1) (4.12.2)\n",
      "Requirement already satisfied: bleach in /home/lori/anaconda3/envs/bbva/lib/python3.11/site-packages (from nbconvert>=6.4.4->jupyter-server<3,>=2.4.0->jupyterlab==4.0->bbva-assignment==0.1) (6.0.0)\n",
      "Requirement already satisfied: defusedxml in /home/lori/anaconda3/envs/bbva/lib/python3.11/site-packages (from nbconvert>=6.4.4->jupyter-server<3,>=2.4.0->jupyterlab==4.0->bbva-assignment==0.1) (0.7.1)\n",
      "Requirement already satisfied: jupyterlab-pygments in /home/lori/anaconda3/envs/bbva/lib/python3.11/site-packages (from nbconvert>=6.4.4->jupyter-server<3,>=2.4.0->jupyterlab==4.0->bbva-assignment==0.1) (0.2.2)\n",
      "Requirement already satisfied: mistune<3,>=2.0.3 in /home/lori/anaconda3/envs/bbva/lib/python3.11/site-packages (from nbconvert>=6.4.4->jupyter-server<3,>=2.4.0->jupyterlab==4.0->bbva-assignment==0.1) (2.0.5)\n",
      "Requirement already satisfied: nbclient>=0.5.0 in /home/lori/anaconda3/envs/bbva/lib/python3.11/site-packages (from nbconvert>=6.4.4->jupyter-server<3,>=2.4.0->jupyterlab==4.0->bbva-assignment==0.1) (0.7.4)\n",
      "Requirement already satisfied: pandocfilters>=1.4.1 in /home/lori/anaconda3/envs/bbva/lib/python3.11/site-packages (from nbconvert>=6.4.4->jupyter-server<3,>=2.4.0->jupyterlab==4.0->bbva-assignment==0.1) (1.5.0)\n",
      "Requirement already satisfied: tinycss2 in /home/lori/anaconda3/envs/bbva/lib/python3.11/site-packages (from nbconvert>=6.4.4->jupyter-server<3,>=2.4.0->jupyterlab==4.0->bbva-assignment==0.1) (1.2.1)\n",
      "Requirement already satisfied: fastjsonschema in /home/lori/anaconda3/envs/bbva/lib/python3.11/site-packages (from nbformat>=5.3.0->jupyter-server<3,>=2.4.0->jupyterlab==4.0->bbva-assignment==0.1) (2.16.3)\n",
      "Requirement already satisfied: charset-normalizer<4,>=2 in /home/lori/anaconda3/envs/bbva/lib/python3.11/site-packages (from requests>=2.28->jupyterlab-server<3,>=2.19.0->jupyterlab==4.0->bbva-assignment==0.1) (3.1.0)\n",
      "Requirement already satisfied: urllib3<3,>=1.21.1 in /home/lori/anaconda3/envs/bbva/lib/python3.11/site-packages (from requests>=2.28->jupyterlab-server<3,>=2.19.0->jupyterlab==4.0->bbva-assignment==0.1) (2.0.2)\n",
      "Requirement already satisfied: certifi>=2017.4.17 in /home/lori/anaconda3/envs/bbva/lib/python3.11/site-packages (from requests>=2.28->jupyterlab-server<3,>=2.19.0->jupyterlab==4.0->bbva-assignment==0.1) (2023.5.7)\n",
      "Requirement already satisfied: ptyprocess in /home/lori/anaconda3/envs/bbva/lib/python3.11/site-packages (from terminado>=0.8.3->jupyter-server<3,>=2.4.0->jupyterlab==4.0->bbva-assignment==0.1) (0.7.0)\n",
      "Requirement already satisfied: argon2-cffi-bindings in /home/lori/anaconda3/envs/bbva/lib/python3.11/site-packages (from argon2-cffi->jupyter-server<3,>=2.4.0->jupyterlab==4.0->bbva-assignment==0.1) (21.2.0)\n",
      "Requirement already satisfied: parso<0.9.0,>=0.8.0 in /home/lori/anaconda3/envs/bbva/lib/python3.11/site-packages (from jedi>=0.16->ipython>=7.23.1->ipykernel->jupyterlab==4.0->bbva-assignment==0.1) (0.8.3)\n",
      "Requirement already satisfied: fqdn in /home/lori/anaconda3/envs/bbva/lib/python3.11/site-packages (from jsonschema>=4.17.3->jupyterlab-server<3,>=2.19.0->jupyterlab==4.0->bbva-assignment==0.1) (1.5.1)\n",
      "Requirement already satisfied: isoduration in /home/lori/anaconda3/envs/bbva/lib/python3.11/site-packages (from jsonschema>=4.17.3->jupyterlab-server<3,>=2.19.0->jupyterlab==4.0->bbva-assignment==0.1) (20.11.0)\n",
      "Requirement already satisfied: jsonpointer>1.13 in /home/lori/anaconda3/envs/bbva/lib/python3.11/site-packages (from jsonschema>=4.17.3->jupyterlab-server<3,>=2.19.0->jupyterlab==4.0->bbva-assignment==0.1) (2.3)\n",
      "Requirement already satisfied: uri-template in /home/lori/anaconda3/envs/bbva/lib/python3.11/site-packages (from jsonschema>=4.17.3->jupyterlab-server<3,>=2.19.0->jupyterlab==4.0->bbva-assignment==0.1) (1.2.0)\n",
      "Requirement already satisfied: webcolors>=1.11 in /home/lori/anaconda3/envs/bbva/lib/python3.11/site-packages (from jsonschema>=4.17.3->jupyterlab-server<3,>=2.19.0->jupyterlab==4.0->bbva-assignment==0.1) (1.13)\n",
      "Requirement already satisfied: wcwidth in /home/lori/anaconda3/envs/bbva/lib/python3.11/site-packages (from prompt-toolkit!=3.0.37,<3.1.0,>=3.0.30->ipython>=7.23.1->ipykernel->jupyterlab==4.0->bbva-assignment==0.1) (0.2.6)\n",
      "Requirement already satisfied: cffi>=1.0.1 in /home/lori/anaconda3/envs/bbva/lib/python3.11/site-packages (from argon2-cffi-bindings->argon2-cffi->jupyter-server<3,>=2.4.0->jupyterlab==4.0->bbva-assignment==0.1) (1.15.1)\n",
      "Requirement already satisfied: soupsieve>1.2 in /home/lori/anaconda3/envs/bbva/lib/python3.11/site-packages (from beautifulsoup4->nbconvert>=6.4.4->jupyter-server<3,>=2.4.0->jupyterlab==4.0->bbva-assignment==0.1) (2.4.1)\n",
      "Requirement already satisfied: webencodings in /home/lori/anaconda3/envs/bbva/lib/python3.11/site-packages (from bleach->nbconvert>=6.4.4->jupyter-server<3,>=2.4.0->jupyterlab==4.0->bbva-assignment==0.1) (0.5.1)\n",
      "Requirement already satisfied: executing>=1.2.0 in /home/lori/anaconda3/envs/bbva/lib/python3.11/site-packages (from stack-data->ipython>=7.23.1->ipykernel->jupyterlab==4.0->bbva-assignment==0.1) (1.2.0)\n",
      "Requirement already satisfied: asttokens>=2.1.0 in /home/lori/anaconda3/envs/bbva/lib/python3.11/site-packages (from stack-data->ipython>=7.23.1->ipykernel->jupyterlab==4.0->bbva-assignment==0.1) (2.2.1)\n",
      "Requirement already satisfied: pure-eval in /home/lori/anaconda3/envs/bbva/lib/python3.11/site-packages (from stack-data->ipython>=7.23.1->ipykernel->jupyterlab==4.0->bbva-assignment==0.1) (0.2.2)\n",
      "Requirement already satisfied: pycparser in /home/lori/anaconda3/envs/bbva/lib/python3.11/site-packages (from cffi>=1.0.1->argon2-cffi-bindings->argon2-cffi->jupyter-server<3,>=2.4.0->jupyterlab==4.0->bbva-assignment==0.1) (2.21)\n",
      "Requirement already satisfied: arrow>=0.15.0 in /home/lori/anaconda3/envs/bbva/lib/python3.11/site-packages (from isoduration->jsonschema>=4.17.3->jupyterlab-server<3,>=2.19.0->jupyterlab==4.0->bbva-assignment==0.1) (1.2.3)\n",
      "Installing collected packages: bbva-assignment\n",
      "  Running setup.py develop for bbva-assignment\n",
      "Successfully installed bbva-assignment-0.1\n"
     ]
    }
   ],
   "source": [
    "\n",
    "!pip install -e .."
   ]
  },
  {
   "cell_type": "code",
   "execution_count": 7,
   "metadata": {},
   "outputs": [],
   "source": [
    "from bbva_assignment.config import config\n",
    "from pathlib import Path\n",
    "import psycopg2\n",
    "from typing import Tuple, List\n",
    "\n",
    "RAW_DATA_PATH = Path(\".\").absolute().parent / 'data' / 'raw'\n",
    "\n",
    "# read connection parameters\n",
    "params = config(filename=Path(\".\").absolute().parent / 'database.ini')\n",
    "\n",
    "# connect to the PostgreSQL server\n",
    "conn = psycopg2.connect(**params)\n",
    "\n",
    "def run_sql_command(connection, query:str)->List[Tuple]:\n",
    "    with connection.cursor() as cursor:\n",
    "        cursor.execute(query)\n",
    "        record = cursor.fetchall()\n",
    "    return record\n"
   ]
  },
  {
   "attachments": {},
   "cell_type": "markdown",
   "metadata": {},
   "source": [
    "# Data Exploration\n",
    "Check which public tables are in the database"
   ]
  },
  {
   "cell_type": "code",
   "execution_count": 8,
   "metadata": {},
   "outputs": [
    {
     "name": "stdout",
     "output_type": "stream",
     "text": [
      "[('movies',), ('ratings',), ('tags',)]\n"
     ]
    }
   ],
   "source": [
    "record = run_sql_command(conn, \"SELECT table_name FROM information_schema.tables WHERE table_schema = 'public';\")\n",
    "print(record)"
   ]
  },
  {
   "cell_type": "code",
   "execution_count": 2,
   "metadata": {},
   "outputs": [
    {
     "name": "stdout",
     "output_type": "stream",
     "text": [
      "[('movies',), ('ratings',), ('tags',)]\n"
     ]
    }
   ],
   "source": [
    "record = run_sql_command(conn, \"SELECT * FROM ratings;\")\n",
    "print(record)"
   ]
  },
  {
   "cell_type": "code",
   "execution_count": 9,
   "metadata": {},
   "outputs": [],
   "source": [
    "import pandas as pd\n",
    "df = pd.DataFrame(record)\n",
    "df.to_csv(RAW_DATA_PATH / 'ratings.csv', index=False, header=False)"
   ]
  },
  {
   "cell_type": "code",
   "execution_count": 9,
   "metadata": {},
   "outputs": [],
   "source": [
    "import pandas as pd\n",
    "df = pd.read_csv(RAW_DATA_PATH / 'ratings.csv')"
   ]
  },
  {
   "cell_type": "code",
   "execution_count": 10,
   "metadata": {},
   "outputs": [
    {
     "data": {
      "text/html": [
       "<div>\n",
       "<style scoped>\n",
       "    .dataframe tbody tr th:only-of-type {\n",
       "        vertical-align: middle;\n",
       "    }\n",
       "\n",
       "    .dataframe tbody tr th {\n",
       "        vertical-align: top;\n",
       "    }\n",
       "\n",
       "    .dataframe thead th {\n",
       "        text-align: right;\n",
       "    }\n",
       "</style>\n",
       "<table border=\"1\" class=\"dataframe\">\n",
       "  <thead>\n",
       "    <tr style=\"text-align: right;\">\n",
       "      <th></th>\n",
       "      <th>userId</th>\n",
       "      <th>movieId</th>\n",
       "      <th>rating</th>\n",
       "      <th>timestamp</th>\n",
       "    </tr>\n",
       "  </thead>\n",
       "  <tbody>\n",
       "    <tr>\n",
       "      <th>0</th>\n",
       "      <td>1</td>\n",
       "      <td>296</td>\n",
       "      <td>5.0</td>\n",
       "      <td>1147880044</td>\n",
       "    </tr>\n",
       "    <tr>\n",
       "      <th>1</th>\n",
       "      <td>1</td>\n",
       "      <td>306</td>\n",
       "      <td>3.5</td>\n",
       "      <td>1147868817</td>\n",
       "    </tr>\n",
       "    <tr>\n",
       "      <th>2</th>\n",
       "      <td>1</td>\n",
       "      <td>307</td>\n",
       "      <td>5.0</td>\n",
       "      <td>1147868828</td>\n",
       "    </tr>\n",
       "    <tr>\n",
       "      <th>3</th>\n",
       "      <td>1</td>\n",
       "      <td>665</td>\n",
       "      <td>5.0</td>\n",
       "      <td>1147878820</td>\n",
       "    </tr>\n",
       "    <tr>\n",
       "      <th>4</th>\n",
       "      <td>1</td>\n",
       "      <td>899</td>\n",
       "      <td>3.5</td>\n",
       "      <td>1147868510</td>\n",
       "    </tr>\n",
       "  </tbody>\n",
       "</table>\n",
       "</div>"
      ],
      "text/plain": [
       "   userId  movieId  rating   timestamp\n",
       "0       1      296     5.0  1147880044\n",
       "1       1      306     3.5  1147868817\n",
       "2       1      307     5.0  1147868828\n",
       "3       1      665     5.0  1147878820\n",
       "4       1      899     3.5  1147868510"
      ]
     },
     "execution_count": 10,
     "metadata": {},
     "output_type": "execute_result"
    }
   ],
   "source": [
    "df.head()"
   ]
  },
  {
   "cell_type": "code",
   "execution_count": null,
   "metadata": {},
   "outputs": [],
   "source": []
  },
  {
   "cell_type": "code",
   "execution_count": null,
   "metadata": {},
   "outputs": [],
   "source": []
  }
 ],
 "metadata": {
  "kernelspec": {
   "display_name": "Python 3",
   "language": "python",
   "name": "python3"
  },
  "language_info": {
   "codemirror_mode": {
    "name": "ipython",
    "version": 3
   },
   "file_extension": ".py",
   "mimetype": "text/x-python",
   "name": "python",
   "nbconvert_exporter": "python",
   "pygments_lexer": "ipython3",
   "version": "3.11.3"
  },
  "orig_nbformat": 4
 },
 "nbformat": 4,
 "nbformat_minor": 2
}
